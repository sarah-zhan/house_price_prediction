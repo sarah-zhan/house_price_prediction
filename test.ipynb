{
 "cells": [
  {
   "cell_type": "code",
   "execution_count": 2,
   "metadata": {},
   "outputs": [
    {
     "data": {
      "application/javascript": "IPython.notebook.set_autosave_interval(0)"
     },
     "metadata": {},
     "output_type": "display_data"
    },
    {
     "name": "stdout",
     "output_type": "stream",
     "text": [
      "Autosave disabled\n"
     ]
    }
   ],
   "source": [
    "%autosave 0"
   ]
  },
  {
   "cell_type": "code",
   "execution_count": 3,
   "metadata": {},
   "outputs": [],
   "source": [
    "import requests"
   ]
  },
  {
   "cell_type": "code",
   "execution_count": 4,
   "metadata": {},
   "outputs": [],
   "source": [
    "url = \"http://localhost:9696/predict\""
   ]
  },
  {
   "cell_type": "code",
   "execution_count": 8,
   "metadata": {},
   "outputs": [],
   "source": [
    "house = {\n",
    "        \"mssubclass\": 60,\n",
    "        \"mszoning\": \"RL\",\n",
    "        \"lotfrontage\": 65,\n",
    "        \"lotarea\": 8450,\n",
    "        \"street\": \"pave\",\n",
    "        \"alley\": \"na\",\n",
    "        \"lotshape\": \"reg\",\n",
    "        \"landcontour\": \"lvl\",\n",
    "        \"utilities\": \"allpub\",\n",
    "        \"lotconfig\": \"inside\",\n",
    "        \"landslope\": \"gtl\",\n",
    "        \"neighborhood\": \"collgcr\",\n",
    "        \"condition1\": \"norm\",\n",
    "        \"condition2\": \"norm\",\n",
    "        \"bldgtype\": \"1fam\",\n",
    "        \"housestyle\": \"2story\",\n",
    "        \"overallqual\": 7,\n",
    "        \"overallcond\": 5,\n",
    "        \"yearbuilt\": 2003,\n",
    "        \"yearremodadd\": 2003,\n",
    "        \"roofstyle\": \"gable\",\n",
    "        \"roofmatl\": \"compshg\",\n",
    "        \"exterior1st\": \"vinylsd\",\n",
    "        \"exterior2nd\": \"vinylsd\",\n",
    "        \"masvnrtype\": \"brkface\",\n",
    "        \"masvnrarea\": 196,\n",
    "        \"exterqual\": \"gd\",\n",
    "        \"extercond\": \"ta\",\n",
    "        \"foundation\": \"pconc\",\n",
    "        \"bsmtqual\": \"gd\",\n",
    "        \"bsmtcond\": \"ta\",\n",
    "        \"bsmtexposure\": \"no\",\n",
    "        \"bsmtfintype1\": \"glq\",\n",
    "        \"bsmtfinsf1\": 706,\n",
    "        \"bsmtfintype2\": \"unf\",\n",
    "        \"bsmtfinsf2\": 0,\n",
    "        \"bsmtunfsf\": 150,\n",
    "        \"totalbsmtsf\": 856,\n",
    "        \"heating\": \"gasa\",\n",
    "        \"heatingqc\": \"ex\",\n",
    "        \"centralair\": \"y\",\n",
    "        \"electrical\": \"sbrkr\",\n",
    "        \"1stflrsf\": 856,\n",
    "        \"2ndflrsf\": 854,\n",
    "        \"lowqualfinsf\": 0,\n",
    "        \"grlivarea\": 1710,\n",
    "        \"bsmtfullbath\": 1,\n",
    "        \"bsmthalfbath\": 0,\n",
    "        \"fullbath\": 2,\n",
    "        \"halfbath\": 1,\n",
    "        \"bedroomabvgr\": 3,\n",
    "        \"kitchenabvgr\": 1,\n",
    "        \"kitchenqual\": \"gd\",\n",
    "        \"totrmsabvgrd\": 8,\n",
    "        \"functional\": \"typ\",\n",
    "        \"fireplaces\": 0,\n",
    "        \"fireplacequ\": \"na\",\n",
    "        \"garagetype\": \"attchd\",\n",
    "        \"garageyrblt\": 2003,\n",
    "        \"garagefinish\": \"rfn\",\n",
    "        \"garagecars\": 2,\n",
    "        \"garagearea\": 548,\n",
    "        \"garagequal\": \"ta\",\n",
    "        \"garagecond\": \"ta\",\n",
    "        \"paveddrive\": \"y\",\n",
    "        \"wooddecksf\": 0,\n",
    "        \"openporchsf\": 61,\n",
    "        \"enclosedporch\": 0,\n",
    "        \"3ssnporch\": 0,\n",
    "        \"screenporch\": 0,\n",
    "        \"poolarea\": 0,\n",
    "        \"poolqc\": \"na\",\n",
    "        \"fence\": \"na\",\n",
    "        \"miscfeature\": \"na\",\n",
    "        \"miscval\": 0,\n",
    "        \"mosold\": 2,\n",
    "        \"yrsold\": 2008,\n",
    "        \"saletype\": \"wd\",\n",
    "        \"salecondition\": \"normal\"\n",
    "}\n"
   ]
  },
  {
   "cell_type": "code",
   "execution_count": 14,
   "metadata": {},
   "outputs": [
    {
     "data": {
      "text/plain": [
       "{'price': 204622.625}"
      ]
     },
     "execution_count": 14,
     "metadata": {},
     "output_type": "execute_result"
    }
   ],
   "source": [
    "requests.post(url, json=house).json()"
   ]
  }
 ],
 "metadata": {
  "kernelspec": {
   "display_name": "Python 3",
   "language": "python",
   "name": "python3"
  },
  "language_info": {
   "codemirror_mode": {
    "name": "ipython",
    "version": 3
   },
   "file_extension": ".py",
   "mimetype": "text/x-python",
   "name": "python",
   "nbconvert_exporter": "python",
   "pygments_lexer": "ipython3",
   "version": "3.10.12"
  }
 },
 "nbformat": 4,
 "nbformat_minor": 2
}
